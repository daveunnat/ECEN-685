{
  "nbformat": 4,
  "nbformat_minor": 0,
  "metadata": {
    "colab": {
      "provenance": []
    },
    "kernelspec": {
      "name": "python3",
      "display_name": "Python 3"
    },
    "language_info": {
      "name": "python"
    }
  },
  "cells": [
    {
      "cell_type": "code",
      "execution_count": null,
      "metadata": {
        "id": "SZRFMgSRNR6N",
        "colab": {
          "base_uri": "https://localhost:8080/"
        },
        "outputId": "25e242e4-bd34-4dc3-dd04-dfb7702bc6ca"
      },
      "outputs": [
        {
          "output_type": "stream",
          "name": "stdout",
          "text": [
            "✅ Filtered pdb_chain_test.csv created for 4UXJ_E\n"
          ]
        }
      ],
      "source": [
        "import pandas as pd\n",
        "\n",
        "# Load the original Excel file\n",
        "df = pd.read_excel(\"/content/drive/MyDrive/overall-apo-com-20210409.xlsx\")\n",
        "\n",
        "# Extract PDB ID and CHAIN ID\n",
        "df[['PDB_ID', 'CHAIN_ID']] = df['Structure_bound'].str.extract(r'([A-Z0-9]{4})_([A-Z0-9])')\n",
        "\n",
        "# Save to CSV\n",
        "df[['PDB_ID', 'CHAIN_ID']].drop_duplicates().to_csv(\"pdb_chain_list.csv\", index=False)\n",
        "\n",
        "print(\"✅ Extracted all PDB–CHAIN pairs to pdb_chain_list\")"
      ]
    }
  ]
}